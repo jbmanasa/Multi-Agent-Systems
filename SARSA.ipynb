{
 "cells": [
  {
   "cell_type": "code",
   "execution_count": 39,
   "metadata": {},
   "outputs": [
    {
     "name": "stdout",
     "output_type": "stream",
     "text": [
      "[-102, -146, -155, -134, -141, -196, -163, -140, -161, -108, -56, -28, -52, -20, -86, -46, -54, -20, -8, -32, -32, -10, -18, -26, -30, -4, -16, -4, -28, -6, -18, -4, -14, -10, -2, -2, -2, -6, -2, -4, -4, -4, -2, -2, -2, -2, -2, -2, -2, -2, -2, -2, -2, -2, -2, -2, -2, -2, -2, -2, -2, -2, -2, -2, -2, -2, -2, -2, -2, -2, -2, -2, -2, -2, -2, -2, -2, -2, -2, -2, -2, -2, -2, -2, -2, -2, -2, -2, -2, -2, -2, -2, -2, -2, -2, -2, -2, -2, -2, -2, -2, -2, -2, -2, -2, -2, -2, -2, -2, -2, -2, -2, -2, -2, -2, -2, -2, -2, -2, -2, -2, -2, -2, -2, -2, -2, -2, -2, -2, -2, -2, -2, -2, -2, -2, -2, -2, -2, -2, -2, -2, -2, -2, -2, -2, -2, -2, -2, -2, -2, -2, -2, -2, -2, -2, -2, -2, -2, -2, -2, -2, -2, -2, -2, -2, -2, -2, -2, -2, -2, -2, -2, -2, -2, -2, -2, -2, -2, -2, -2, -2, -2, -2, -2, -2, -2, -2, -2, -2, -2, -2, -2, -2, -2, -2, -2, -2, -2, -2, -2, -2, -2, -2, -2, -2, -2, -2, -2, -2, -2, -2, -2, -2, -2, -2, -2, -2, -2, -2, -2, -2, -2, -2, -2, -2, -2, -2, -2, -2, -2, -2, -2, -2, -2, -2, -2, -2, -2, -2, -2, -2, -2, -2, -2, -2, -2, -2, -2, -2, -2, -2, -2, -2, -2, -2, -2, -2, -2, -2, -2, -2, -2, -2, -2, -2, -2, -2, -2, -2, -2, -2, -2, -2, -2, -2, -2, -2, -2, -2, -2, -2, -2, -2, -2, -2, -2, -2, -2, -2, -2, -2, -2, -2, -2, -2, -2, -2, -2, -2, -2, -2, -2, -2, -2, -2, -2, -2, -2, -2, -2, -2, -2, -2, -2, -2, -2, -2, -2, -2, -2, -2, -2, -2, -2, -2, -2, -2, -2, -2, -2, -2, -2, -2, -2, -2, -2, -2, -2, -2, -2, -2, -2, -2, -2, -2, -2, -2, -2, -2, -2, -2, -2, -2, -2, -2, -2, -2, -2, -2, -2, -2, -2, -2, -2, -2, -2, -2, -2, -2, -2, -2, -2, -2, -2, -2, -2, -2, -2, -2, -2, -2, -2, -2, -2, -2, -2, -2, -2, -2, -2, -2, -2, -2, -2, -2, -2, -2, -2, -2, -2, -2, -2, -2, -2, -2, -2, -2, -2, -2, -2, -2, -2, -2, -2, -2, -2, -2, -2, -2, -2, -2, -2, -2, -2, -2, -2, -2, -2, -2, -2, -2, -2, -2, -2, -2, -2, -2, -2, -2, -2, -2, -2, -2, -2, -2, -2, -2, -2, -2, -2, -2, -2, -2, -2, -2, -2, -2, -2, -2, -2, -2, -2, -2, -2, -2, -2, -2, -2, -2, -2, -2, -2, -2, -2, -2, -2, -2, -2, -2, -2, -2, -2, -2, -2, -2, -2, -2, -2, -2, -2, -2, -2, -2, -2, -2, -2, -2, -2, -2, -2, -2, -2, -2, -2, -2, -2, -2, -2, -2, -2, -2, -2, -2, -2, -2, -2, -2, -2, -2, -2, -2, -2, -2, -2, -2, -2, -2, -2, -2, -2, -2, -2, -2, -2, -2, -2, -2, -2, -2, -2, -2, -2, -2, -2, -2, -2, -2, -2, -2, -2, -2, -2, -2, -2, -2, -2, -2, -2, -2, -2, -2, -2, -2, -2, -2, -2, -2, -2, -2, -2, -2, -2, -2, -2, -2, -2, -2, -2, -2, -2, -2, -2, -2, -2, -2, -2, -2, -2, -2, -2, -2, -2, -2, -2, -2, -2, -2, -2, -2]\n"
     ]
    },
    {
     "data": {
      "text/plain": [
       "Text(0,0.5,'Sum of Rewards for each episode')"
      ]
     },
     "execution_count": 39,
     "metadata": {},
     "output_type": "execute_result"
    },
    {
     "data": {
      "image/png": "[encoded data removed]",
      "text/plain": [
       "<Figure size 432x288 with 1 Axes>"
      ]
     },
     "metadata": {},
     "output_type": "display_data"
    }
   ],
   "source": [
    "import numpy as np\n",
    "import random \n",
    "import matplotlib.pyplot as plt\n",
    "\n",
    "ACTION_LEFT = 0\n",
    "ACTION_RIGHT = 1\n",
    "ACTION_UP = 2\n",
    "ACTION_DOWN = 3 \n",
    "\n",
    "def policy(state, actionRewards, epsilon):\n",
    "    r = np.random.random()\n",
    "    if (r < epsilon):\n",
    "        action = random.randint(0, 3)\n",
    "    else:\n",
    "        maxVal = actionRewards[0,state[0], state[1]]\n",
    "        action = 0\n",
    "        for i in range(1,4):\n",
    "            if ((actionRewards[i, state[0], state[1]]) > maxVal):\n",
    "                maxVal = actionRewards[i, state[0], state[1]]\n",
    "                action = i\n",
    "    return action\n",
    "\n",
    "\n",
    "def getNextState(state, action, actionRewards):\n",
    "    #dim = actionRewards.shape()\n",
    "    row = 4#dim[1]\n",
    "    col = 9#dim[2]\n",
    "    i = state[0]\n",
    "    j = state[1]\n",
    "    if (action == ACTION_LEFT):\n",
    "        j -= 1\n",
    "        if (j<0):\n",
    "            j+= 1;\n",
    "    elif (action == ACTION_RIGHT):\n",
    "        j+= 1\n",
    "        if (j>col):\n",
    "            j-= 1         \n",
    "    elif (action == ACTION_UP):\n",
    "        i-= 1\n",
    "        if (i<0):\n",
    "            i+= 1;\n",
    "    elif (action == ACTION_DOWN):\n",
    "        i+=1\n",
    "        if (i>row):\n",
    "            i-= 1\n",
    "    return (i,j)\n",
    "\n",
    "\n",
    "def isCliff(state) :\n",
    "    cliff = 0\n",
    "    i = state[1]\n",
    "    if (i in range(1,9) and (state[0]==4)):\n",
    "        cliff = 1\n",
    "    return cliff\n",
    "\n",
    "        \n",
    "def getReward(state):\n",
    "    reward = 0\n",
    "    if (state == (4,9)):\n",
    "        reward = 10\n",
    "    elif (isCliff(state)):\n",
    "        reward = -100\n",
    "    else:\n",
    "        reward = -1\n",
    "    return reward\n",
    "\n",
    "\n",
    "\n",
    "def sarsa(startState, absorbState, actionRewards, epsilon, alpha):\n",
    "    rewardSumList = []\n",
    "    for i in range(1,600):\n",
    "        state = startState\n",
    "        action = policy(state, actionRewards, epsilon)\n",
    "        rewardSum = 0\n",
    "        while(state!=absorbState and isCliff(state)!=1): \n",
    "            nextState = getNextState(state, action, actionRewards)\n",
    "            nextAction = policy(nextState, actionRewards, epsilon)\n",
    "            nextReward = getReward(nextState)\n",
    "            value = actionRewards[action, state[0], state[1]] + alpha*(nextReward + actionRewards[nextAction, nextState[0], nextState[1]] - actionRewards[action, state[0], state[1]])\n",
    "            actionRewards[action, state[0], state[1]] = value\n",
    "            state = nextState\n",
    "            action = nextAction\n",
    "            rewardSum += nextReward\n",
    "        rewardSumList.append(rewardSum)\n",
    "    return rewardSumList\n",
    "\n",
    "\n",
    "epsilon = 0.1\n",
    "alpha = 0.5\n",
    "actionRewards = np.zeros((4, 5, 10))\n",
    "startState = (4,0)\n",
    "absorbState = (4,9)\n",
    "#rewardSumList = sarsa(startState, absorbState, actionRewards, epsilon, alpha)\n",
    "print(rewardSumList)\n",
    "x_list = []\n",
    "for i in range(0,599):\n",
    "    x_list.append(i)\n",
    "fig = plt.figure()\n",
    "plt.plot(x_list, rewardSumList)\n",
    "plt.xlabel(\"Episodes\")\n",
    "plt.ylabel(\"Sum of Rewards for each episode\")\n",
    "#fig.savefig(\"sarsa-0.5.png\")\n"
   ]
  },
  {
   "cell_type": "code",
   "execution_count": null,
   "metadata": {},
   "outputs": [],
   "source": []
  }
 ],
 "metadata": {
  "kernelspec": {
   "display_name": "Python 3",
   "language": "python",
   "name": "python3"
  },
  "language_info": {
   "codemirror_mode": {
    "name": "ipython",
    "version": 3
   },
   "file_extension": ".py",
   "mimetype": "text/x-python",
   "name": "python",
   "nbconvert_exporter": "python",
   "pygments_lexer": "ipython3",
   "version": "3.6.6"
  }
 },
 "nbformat": 4,
 "nbformat_minor": 2
}
